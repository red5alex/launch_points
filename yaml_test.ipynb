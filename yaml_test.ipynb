{
 "cells": [
  {
   "cell_type": "code",
   "execution_count": 1,
   "metadata": {},
   "outputs": [
    {
     "data": {
      "text/plain": [
       "[{'name': 'Anleger Rummelsburger Bucht',\n",
       "  'coordinates': {'lon': 13.4806, 'lat': 52.495601},\n",
       "  'waterbody': 'Rummelsburger Bucht',\n",
       "  'public_transport': [{'stop': 'Kosanke-Siedlung',\n",
       "    'distance_m': 450,\n",
       "    'lines': ['Tram 21']}],\n",
       "  'vehicle_parking': [{'type': 'kerfside', 'distance_m': 100}],\n",
       "  'type': 'jetty',\n",
       "  'accessibility': {'waterside': 'good',\n",
       "   'landside': 'excellent',\n",
       "   'setup_area': 'excellent'},\n",
       "  'access': {'type': 'jetty', 'height_cm': 35},\n",
       "  'amenities': [],\n",
       "  'pictures': [{'file': 'figs/anleger_rummelsburg_waterside.jpg'}]}]"
      ]
     },
     "execution_count": 1,
     "metadata": {},
     "output_type": "execute_result"
    }
   ],
   "source": [
    "import yaml\n",
    "\n",
    "# Open and read the YAML file\n",
    "with open('berlin/points.yaml', 'r') as file:\n",
    "    launchpoint_data = yaml.safe_load(file)\n",
    "\n",
    "# Now, 'data' will contain the parsed data from the YAML file\n",
    "launchpoint_data\n"
   ]
  }
 ],
 "metadata": {
  "kernelspec": {
   "display_name": "py_311_folium",
   "language": "python",
   "name": "python3"
  },
  "language_info": {
   "codemirror_mode": {
    "name": "ipython",
    "version": 3
   },
   "file_extension": ".py",
   "mimetype": "text/x-python",
   "name": "python",
   "nbconvert_exporter": "python",
   "pygments_lexer": "ipython3",
   "version": "3.11.10"
  }
 },
 "nbformat": 4,
 "nbformat_minor": 2
}
